{
 "cells": [
  {
   "cell_type": "code",
   "execution_count": 1,
   "metadata": {},
   "outputs": [],
   "source": [
    "from jupytest import Suite, summarize_results, detail_issues, assert_, eq"
   ]
  },
  {
   "cell_type": "code",
   "execution_count": 2,
   "metadata": {},
   "outputs": [],
   "source": [
    "suite = Suite()"
   ]
  },
  {
   "cell_type": "code",
   "execution_count": 3,
   "metadata": {},
   "outputs": [],
   "source": [
    "def fizzbuzz(number):\n",
    "    output = []\n",
    "    if number % 3 == 0:\n",
    "        output.append(\"Fizz\")\n",
    "    if number % 5 == 0:\n",
    "        output.append(\"Buzz\")\n",
    "    else:\n",
    "        output.append(str(number))\n",
    "    return \"\".join(output)"
   ]
  },
  {
   "cell_type": "code",
   "execution_count": 4,
   "metadata": {},
   "outputs": [],
   "source": [
    "for n in [3, 6, 9, 21, 39]:\n",
    "    @suite.test(name=f\"Divisible by 3 [{n}]\")\n",
    "    def divisible_by_3():\n",
    "        assert_(eq, expected=\"Fizz\", actual=fizzbuzz(n))"
   ]
  },
  {
   "cell_type": "code",
   "execution_count": 5,
   "metadata": {},
   "outputs": [],
   "source": [
    "for n in [5, 10, 35, 100]:\n",
    "    @suite.test(name=f\"Divisible by 5 [{n}]\")\n",
    "    def divisible_by_5():\n",
    "        assert_(eq, expected=\"Buzz\", actual=fizzbuzz(n))"
   ]
  },
  {
   "cell_type": "code",
   "execution_count": 6,
   "metadata": {},
   "outputs": [],
   "source": [
    "for n in [15, 45, 150]:\n",
    "    @suite.test(name=f\"Divisible by both [{n}]\")\n",
    "    def divisible_by_both():\n",
    "        assert_(eq, expected=\"FizzBuzz\", actual=fizzbuzz(n))"
   ]
  },
  {
   "cell_type": "code",
   "execution_count": 7,
   "metadata": {},
   "outputs": [],
   "source": [
    "for n in [1, 7, 11, 28, 101]:\n",
    "    @suite.test(name=f\"Divisible by none [{n}]\")\n",
    "    def divisible_by_none():\n",
    "        assert_(eq, expected=str(n), actual=fizzbuzz(n))"
   ]
  },
  {
   "cell_type": "code",
   "execution_count": 8,
   "metadata": {},
   "outputs": [
    {
     "name": "stdout",
     "output_type": "stream",
     "text": [
      "12 passed, \u001b[33m5 failed\u001b[0m, \u001b[37m0 raised an error\u001b[0m\n"
     ]
    }
   ],
   "source": [
    "_ = summarize_results(suite)"
   ]
  },
  {
   "cell_type": "code",
   "execution_count": 9,
   "metadata": {},
   "outputs": [
    {
     "name": "stdout",
     "output_type": "stream",
     "text": [
      "-------------------------------------------\n",
      "# 1/5 ** Test \u001b[1mDivisible by 3 [3]\u001b[0m ** \u001b[33mFailure\u001b[0m\n",
      "These objects are not equal:\n",
      "\n",
      "    actual   => Fizz3\n",
      "    expected => Fizz\n",
      "\n",
      "-------------------------------------------\n",
      "# 2/5 ** Test \u001b[1mDivisible by 3 [6]\u001b[0m ** \u001b[33mFailure\u001b[0m\n",
      "These objects are not equal:\n",
      "\n",
      "    actual   => Fizz6\n",
      "    expected => Fizz\n",
      "\n",
      "-------------------------------------------\n",
      "# 3/5 ** Test \u001b[1mDivisible by 3 [9]\u001b[0m ** \u001b[33mFailure\u001b[0m\n",
      "These objects are not equal:\n",
      "\n",
      "    actual   => Fizz9\n",
      "    expected => Fizz\n",
      "\n",
      "--------------------------------------------\n",
      "# 4/5 ** Test \u001b[1mDivisible by 3 [21]\u001b[0m ** \u001b[33mFailure\u001b[0m\n",
      "These objects are not equal:\n",
      "\n",
      "    actual   => Fizz21\n",
      "    expected => Fizz\n",
      "\n",
      "--------------------------------------------\n",
      "# 5/5 ** Test \u001b[1mDivisible by 3 [39]\u001b[0m ** \u001b[33mFailure\u001b[0m\n",
      "These objects are not equal:\n",
      "\n",
      "    actual   => Fizz39\n",
      "    expected => Fizz\n",
      "\n"
     ]
    }
   ],
   "source": [
    "detail_issues(suite)"
   ]
  },
  {
   "cell_type": "code",
   "execution_count": 10,
   "metadata": {},
   "outputs": [
    {
     "name": "stdout",
     "output_type": "stream",
     "text": [
      "FizzBuzz\n",
      "1\n",
      "2\n",
      "Fizz3\n",
      "4\n",
      "Buzz\n",
      "Fizz6\n",
      "7\n",
      "8\n",
      "Fizz9\n",
      "Buzz\n",
      "11\n",
      "Fizz12\n",
      "13\n",
      "14\n",
      "FizzBuzz\n",
      "16\n",
      "17\n",
      "Fizz18\n",
      "19\n"
     ]
    }
   ],
   "source": [
    "for n in range(20):\n",
    "    print(fizzbuzz(n))"
   ]
  }
 ],
 "metadata": {
  "kernelspec": {
   "display_name": "Python 3",
   "language": "python",
   "name": "python3"
  },
  "language_info": {
   "codemirror_mode": {
    "name": "ipython",
    "version": 3
   },
   "file_extension": ".py",
   "mimetype": "text/x-python",
   "name": "python",
   "nbconvert_exporter": "python",
   "pygments_lexer": "ipython3",
   "version": "3.8.2"
  }
 },
 "nbformat": 4,
 "nbformat_minor": 2
}
