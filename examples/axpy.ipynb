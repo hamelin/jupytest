{
 "cells": [
  {
   "cell_type": "code",
   "execution_count": 1,
   "metadata": {},
   "outputs": [],
   "source": [
    "from jupytest import Suite, Report, report_results"
   ]
  },
  {
   "cell_type": "code",
   "execution_count": 2,
   "metadata": {},
   "outputs": [],
   "source": [
    "def axpy(a, b, x):\n",
    "    return a ** x + b"
   ]
  },
  {
   "cell_type": "code",
   "execution_count": 3,
   "metadata": {},
   "outputs": [
    {
     "name": "stdout",
     "output_type": "stream",
     "text": [
      "Test \u001b[1mbasics\u001b[0m passed.\n"
     ]
    }
   ],
   "source": [
    "suite = Suite() | Report()\n",
    "\n",
    "\n",
    "@suite.test\n",
    "def basics():\n",
    "    assert axpy(2, 3, 2) == 7"
   ]
  },
  {
   "cell_type": "code",
   "execution_count": 4,
   "metadata": {},
   "outputs": [
    {
     "name": "stdout",
     "output_type": "stream",
     "text": [
      "\n",
      "---------------------------------------------------\n",
      "Issue encountered ** Test \u001b[1m\u001b[1mlarger numbers\u001b[0m\u001b[0m ** \u001b[33mFailure\u001b[0m\n",
      "Assertion failed.\n",
      "\n",
      "\u001b[37mFile /data/code/jupytest/jupytest/__init__.py | Line 319 | Function test\u001b[0m\n",
      "\n",
      "\u001b[37mFile /data/code/jupytest/jupytest/__init__.py | Line 352 | Function _run_cell_test\u001b[0m\n",
      "\n",
      "File <ipython-input-0-8663eebeb6c3> | Line 2 | Function <module>\n",
      "\u001b[37m2\u001b[0m \u001b[37m|\u001b[0m \u001b[34massert\u001b[39;49;00m axpy(\u001b[34m4\u001b[39;49;00m, \u001b[34m10\u001b[39;49;00m, \u001b[34m2\u001b[39;49;00m) == \u001b[34m18\u001b[39;49;00m\n",
      "\n"
     ]
    }
   ],
   "source": [
    "%%test larger numbers\n",
    "assert axpy(4, 10, 2) == 18"
   ]
  },
  {
   "cell_type": "code",
   "execution_count": 5,
   "metadata": {},
   "outputs": [],
   "source": [
    "def axpy(a, b, x):\n",
    "    return a * x + b"
   ]
  },
  {
   "cell_type": "code",
   "execution_count": 6,
   "metadata": {},
   "outputs": [
    {
     "name": "stdout",
     "output_type": "stream",
     "text": [
      "---------------------------\n",
      "Test \u001b[1mlarger numbers\u001b[0m passed.\n"
     ]
    }
   ],
   "source": [
    "%%test larger numbers\n",
    "assert axpy(4, 10, 2) == 18"
   ]
  },
  {
   "cell_type": "code",
   "execution_count": 7,
   "metadata": {},
   "outputs": [
    {
     "name": "stdout",
     "output_type": "stream",
     "text": [
      "basics        \tok\n",
      "larger numbers\t\u001b[33mfailed\u001b[0m\n",
      "              \tok\n"
     ]
    }
   ],
   "source": [
    "report_results(suite)"
   ]
  }
 ],
 "metadata": {
  "kernelspec": {
   "display_name": "Python 3",
   "language": "python",
   "name": "python3"
  },
  "language_info": {
   "codemirror_mode": {
    "name": "ipython",
    "version": 3
   },
   "file_extension": ".py",
   "mimetype": "text/x-python",
   "name": "python",
   "nbconvert_exporter": "python",
   "pygments_lexer": "ipython3",
   "version": "3.8.2"
  }
 },
 "nbformat": 4,
 "nbformat_minor": 2
}
