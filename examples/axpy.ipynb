{
 "cells": [
  {
   "cell_type": "code",
   "execution_count": 1,
   "metadata": {},
   "outputs": [],
   "source": [
    "from jupytest import Suite, Report, Magic, report_results, assert_, eq"
   ]
  },
  {
   "cell_type": "code",
   "execution_count": 2,
   "metadata": {},
   "outputs": [],
   "source": [
    "def axpy(a, b, x):\n",
    "    return a ** x + b"
   ]
  },
  {
   "cell_type": "code",
   "execution_count": 3,
   "metadata": {},
   "outputs": [
    {
     "name": "stdout",
     "output_type": "stream",
     "text": [
      "Test \u001b[1mbasics\u001b[0m passed.\n"
     ]
    }
   ],
   "source": [
    "suite = Suite() | Report() | Magic()\n",
    "\n",
    "\n",
    "@suite.test\n",
    "def basics():\n",
    "    assert_(eq, actual=axpy(2, 3, 2), expected=7)"
   ]
  },
  {
   "cell_type": "code",
   "execution_count": 4,
   "metadata": {},
   "outputs": [
    {
     "name": "stdout",
     "output_type": "stream",
     "text": [
      "Issue ** Test \u001b[1m\u001b[1mlarger numbers\u001b[0m\u001b[0m ** \u001b[33mFailure\u001b[0m\n",
      "These objects are not equal:\n",
      "\n",
      "    actual   => 26\n",
      "    expected => 18\n"
     ]
    }
   ],
   "source": [
    "%%test larger numbers\n",
    "assert_(eq, actual=axpy(4, 10, 2), expected=18)"
   ]
  },
  {
   "cell_type": "code",
   "execution_count": 5,
   "metadata": {},
   "outputs": [],
   "source": [
    "def axpy(a, b, x):\n",
    "    return a * x + b"
   ]
  },
  {
   "cell_type": "code",
   "execution_count": 6,
   "metadata": {},
   "outputs": [
    {
     "name": "stdout",
     "output_type": "stream",
     "text": [
      "Test \u001b[1mlarger numbers\u001b[0m passed.\n"
     ]
    }
   ],
   "source": [
    "%%test larger numbers\n",
    "assert_(eq, expected=18, actual=axpy(4, 10, 2))"
   ]
  },
  {
   "cell_type": "code",
   "execution_count": 7,
   "metadata": {},
   "outputs": [
    {
     "name": "stdout",
     "output_type": "stream",
     "text": [
      "basics        \tok\n",
      "larger numbers\t\u001b[33mfailed\u001b[0m\n",
      "              \tok\n"
     ]
    }
   ],
   "source": [
    "report_results(suite)"
   ]
  }
 ],
 "metadata": {
  "kernelspec": {
   "display_name": "Python 3",
   "language": "python",
   "name": "python3"
  },
  "language_info": {
   "codemirror_mode": {
    "name": "ipython",
    "version": 3
   },
   "file_extension": ".py",
   "mimetype": "text/x-python",
   "name": "python",
   "nbconvert_exporter": "python",
   "pygments_lexer": "ipython3",
   "version": "3.8.2"
  }
 },
 "nbformat": 4,
 "nbformat_minor": 2
}
